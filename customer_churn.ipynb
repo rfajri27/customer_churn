{
 "cells": [
  {
   "cell_type": "markdown",
   "metadata": {},
   "source": [
    "# Customer Churn Prediction using Machine Learning\n",
    "Dataset yang digunakan pada project ini merupakan dataset  **DQLab Telco**  dari salah satu modul project-based yang telah saya selesaikan di DQLab Academy."
   ]
  },
  {
   "cell_type": "code",
   "execution_count": 1,
   "metadata": {},
   "outputs": [],
   "source": [
    "import pandas as pd \n",
    "import numpy as np\n",
    "import matplotlib.pyplot as plt\n",
    "import seaborn as sns\n",
    "from sklearn.preprocessing import LabelEncoder\n",
    "from sklearn.model_selection import train_test_split\n",
    "from sklearn.linear_model import LogisticRegression\n",
    "from sklearn.ensemble import RandomForestClassifier\n",
    "from sklearn.ensemble import GradientBoostingClassifier\n",
    "from sklearn.metrics import confusion_matrix, classification_report\n",
    "import pickle\n",
    "from pathlib import Path"
   ]
  },
  {
   "cell_type": "code",
   "execution_count": 2,
   "metadata": {},
   "outputs": [],
   "source": [
    "sns.set(style='darkgrid')"
   ]
  },
  {
   "cell_type": "markdown",
   "metadata": {},
   "source": [
    "## Load Data"
   ]
  },
  {
   "cell_type": "code",
   "execution_count": 3,
   "metadata": {},
   "outputs": [
    {
     "data": {
      "text/plain": [
       "(7113, 22)"
      ]
     },
     "execution_count": 3,
     "metadata": {},
     "output_type": "execute_result"
    }
   ],
   "source": [
    "pd.options.display.max_columns = 50\n",
    "\n",
    "df_load = pd.read_csv('https://storage.googleapis.com/dqlab-dataset/dqlab_telco.csv')\n",
    "df_load.shape"
   ]
  },
  {
   "cell_type": "code",
   "execution_count": 4,
   "metadata": {},
   "outputs": [
    {
     "data": {
      "text/html": [
       "<div>\n",
       "<style scoped>\n",
       "    .dataframe tbody tr th:only-of-type {\n",
       "        vertical-align: middle;\n",
       "    }\n",
       "\n",
       "    .dataframe tbody tr th {\n",
       "        vertical-align: top;\n",
       "    }\n",
       "\n",
       "    .dataframe thead th {\n",
       "        text-align: right;\n",
       "    }\n",
       "</style>\n",
       "<table border=\"1\" class=\"dataframe\">\n",
       "  <thead>\n",
       "    <tr style=\"text-align: right;\">\n",
       "      <th></th>\n",
       "      <th>UpdatedAt</th>\n",
       "      <th>customerID</th>\n",
       "      <th>gender</th>\n",
       "      <th>SeniorCitizen</th>\n",
       "      <th>Partner</th>\n",
       "      <th>Dependents</th>\n",
       "      <th>tenure</th>\n",
       "      <th>PhoneService</th>\n",
       "      <th>MultipleLines</th>\n",
       "      <th>InternetService</th>\n",
       "      <th>OnlineSecurity</th>\n",
       "      <th>OnlineBackup</th>\n",
       "      <th>DeviceProtection</th>\n",
       "      <th>TechSupport</th>\n",
       "      <th>StreamingTV</th>\n",
       "      <th>StreamingMovies</th>\n",
       "      <th>Contract</th>\n",
       "      <th>PaperlessBilling</th>\n",
       "      <th>PaymentMethod</th>\n",
       "      <th>MonthlyCharges</th>\n",
       "      <th>TotalCharges</th>\n",
       "      <th>Churn</th>\n",
       "    </tr>\n",
       "  </thead>\n",
       "  <tbody>\n",
       "    <tr>\n",
       "      <th>0</th>\n",
       "      <td>202006</td>\n",
       "      <td>45759018157</td>\n",
       "      <td>Female</td>\n",
       "      <td>0</td>\n",
       "      <td>Yes</td>\n",
       "      <td>No</td>\n",
       "      <td>1.0</td>\n",
       "      <td>No</td>\n",
       "      <td>No phone service</td>\n",
       "      <td>DSL</td>\n",
       "      <td>No</td>\n",
       "      <td>Yes</td>\n",
       "      <td>No</td>\n",
       "      <td>No</td>\n",
       "      <td>No</td>\n",
       "      <td>No</td>\n",
       "      <td>Month-to-month</td>\n",
       "      <td>Yes</td>\n",
       "      <td>Electronic check</td>\n",
       "      <td>29.85</td>\n",
       "      <td>29.85</td>\n",
       "      <td>No</td>\n",
       "    </tr>\n",
       "    <tr>\n",
       "      <th>1</th>\n",
       "      <td>202006</td>\n",
       "      <td>45557574145</td>\n",
       "      <td>Male</td>\n",
       "      <td>0</td>\n",
       "      <td>No</td>\n",
       "      <td>No</td>\n",
       "      <td>34.0</td>\n",
       "      <td>Yes</td>\n",
       "      <td>No</td>\n",
       "      <td>DSL</td>\n",
       "      <td>Yes</td>\n",
       "      <td>No</td>\n",
       "      <td>Yes</td>\n",
       "      <td>No</td>\n",
       "      <td>No</td>\n",
       "      <td>No</td>\n",
       "      <td>One year</td>\n",
       "      <td>No</td>\n",
       "      <td>Mailed check</td>\n",
       "      <td>56.95</td>\n",
       "      <td>1889.50</td>\n",
       "      <td>No</td>\n",
       "    </tr>\n",
       "    <tr>\n",
       "      <th>2</th>\n",
       "      <td>202006</td>\n",
       "      <td>45366876421</td>\n",
       "      <td>Male</td>\n",
       "      <td>0</td>\n",
       "      <td>No</td>\n",
       "      <td>No</td>\n",
       "      <td>2.0</td>\n",
       "      <td>Yes</td>\n",
       "      <td>No</td>\n",
       "      <td>DSL</td>\n",
       "      <td>Yes</td>\n",
       "      <td>Yes</td>\n",
       "      <td>No</td>\n",
       "      <td>No</td>\n",
       "      <td>No</td>\n",
       "      <td>No</td>\n",
       "      <td>Month-to-month</td>\n",
       "      <td>Yes</td>\n",
       "      <td>Mailed check</td>\n",
       "      <td>53.85</td>\n",
       "      <td>108.15</td>\n",
       "      <td>Yes</td>\n",
       "    </tr>\n",
       "    <tr>\n",
       "      <th>3</th>\n",
       "      <td>202006</td>\n",
       "      <td>45779536532</td>\n",
       "      <td>Male</td>\n",
       "      <td>0</td>\n",
       "      <td>No</td>\n",
       "      <td>No</td>\n",
       "      <td>45.0</td>\n",
       "      <td>No</td>\n",
       "      <td>No phone service</td>\n",
       "      <td>DSL</td>\n",
       "      <td>Yes</td>\n",
       "      <td>No</td>\n",
       "      <td>Yes</td>\n",
       "      <td>Yes</td>\n",
       "      <td>No</td>\n",
       "      <td>No</td>\n",
       "      <td>One year</td>\n",
       "      <td>No</td>\n",
       "      <td>Bank transfer (automatic)</td>\n",
       "      <td>42.30</td>\n",
       "      <td>1840.75</td>\n",
       "      <td>No</td>\n",
       "    </tr>\n",
       "    <tr>\n",
       "      <th>4</th>\n",
       "      <td>202006</td>\n",
       "      <td>45923787906</td>\n",
       "      <td>Female</td>\n",
       "      <td>0</td>\n",
       "      <td>No</td>\n",
       "      <td>No</td>\n",
       "      <td>2.0</td>\n",
       "      <td>Yes</td>\n",
       "      <td>No</td>\n",
       "      <td>Fiber optic</td>\n",
       "      <td>No</td>\n",
       "      <td>No</td>\n",
       "      <td>No</td>\n",
       "      <td>No</td>\n",
       "      <td>No</td>\n",
       "      <td>No</td>\n",
       "      <td>Month-to-month</td>\n",
       "      <td>Yes</td>\n",
       "      <td>Electronic check</td>\n",
       "      <td>70.70</td>\n",
       "      <td>151.65</td>\n",
       "      <td>Yes</td>\n",
       "    </tr>\n",
       "  </tbody>\n",
       "</table>\n",
       "</div>"
      ],
      "text/plain": [
       "   UpdatedAt   customerID  gender  SeniorCitizen Partner Dependents  tenure  \\\n",
       "0     202006  45759018157  Female              0     Yes         No     1.0   \n",
       "1     202006  45557574145    Male              0      No         No    34.0   \n",
       "2     202006  45366876421    Male              0      No         No     2.0   \n",
       "3     202006  45779536532    Male              0      No         No    45.0   \n",
       "4     202006  45923787906  Female              0      No         No     2.0   \n",
       "\n",
       "  PhoneService     MultipleLines InternetService OnlineSecurity OnlineBackup  \\\n",
       "0           No  No phone service             DSL             No          Yes   \n",
       "1          Yes                No             DSL            Yes           No   \n",
       "2          Yes                No             DSL            Yes          Yes   \n",
       "3           No  No phone service             DSL            Yes           No   \n",
       "4          Yes                No     Fiber optic             No           No   \n",
       "\n",
       "  DeviceProtection TechSupport StreamingTV StreamingMovies        Contract  \\\n",
       "0               No          No          No              No  Month-to-month   \n",
       "1              Yes          No          No              No        One year   \n",
       "2               No          No          No              No  Month-to-month   \n",
       "3              Yes         Yes          No              No        One year   \n",
       "4               No          No          No              No  Month-to-month   \n",
       "\n",
       "  PaperlessBilling              PaymentMethod  MonthlyCharges  TotalCharges  \\\n",
       "0              Yes           Electronic check           29.85         29.85   \n",
       "1               No               Mailed check           56.95       1889.50   \n",
       "2              Yes               Mailed check           53.85        108.15   \n",
       "3               No  Bank transfer (automatic)           42.30       1840.75   \n",
       "4              Yes           Electronic check           70.70        151.65   \n",
       "\n",
       "  Churn  \n",
       "0    No  \n",
       "1    No  \n",
       "2   Yes  \n",
       "3    No  \n",
       "4   Yes  "
      ]
     },
     "execution_count": 4,
     "metadata": {},
     "output_type": "execute_result"
    }
   ],
   "source": [
    "df_load.head()"
   ]
  },
  {
   "cell_type": "markdown",
   "metadata": {},
   "source": [
    "## Data Cleansing"
   ]
  },
  {
   "cell_type": "markdown",
   "metadata": {},
   "source": [
    "### Filter customerID\n",
    "Berikut merupakan kriteria customerID (phone number) yang benar:\n",
    "* Panjang karakter adalah 11-12.\n",
    "* Terdiri dari Angka Saja, tidak diperbolehkan ada karakter selain angka\n",
    "* Diawali dengan angka 45 2 digit pertama."
   ]
  },
  {
   "cell_type": "code",
   "execution_count": 5,
   "metadata": {},
   "outputs": [
    {
     "data": {
      "text/plain": [
       "7017"
      ]
     },
     "execution_count": 5,
     "metadata": {},
     "output_type": "execute_result"
    }
   ],
   "source": [
    "df_load['customerID'].nunique()"
   ]
  },
  {
   "cell_type": "code",
   "execution_count": 6,
   "metadata": {},
   "outputs": [
    {
     "data": {
      "text/plain": [
       "7006"
      ]
     },
     "execution_count": 6,
     "metadata": {},
     "output_type": "execute_result"
    }
   ],
   "source": [
    "df_load['valid_id'] = df_load['customerID'].astype(str).str.match(r'45\\d{9,10}')\n",
    "df_load = df_load[df_load['valid_id'] == True].drop('valid_id', axis=1)\n",
    "df_load['customerID'].count()"
   ]
  },
  {
   "cell_type": "code",
   "execution_count": 7,
   "metadata": {},
   "outputs": [
    {
     "data": {
      "text/plain": [
       "False"
      ]
     },
     "execution_count": 7,
     "metadata": {},
     "output_type": "execute_result"
    }
   ],
   "source": [
    "df_load['customerID'].is_unique"
   ]
  },
  {
   "cell_type": "code",
   "execution_count": 8,
   "metadata": {},
   "outputs": [
    {
     "name": "stdout",
     "output_type": "stream",
     "text": [
      "Hasil jumlah ID Customer yang sudah dihilangkan duplikasinya (distinct) adalah 6993\n"
     ]
    }
   ],
   "source": [
    "# Drop duplicate ID & sorted by Periode\n",
    "df_load = df_load.sort_values('UpdatedAt', ascending = False).drop_duplicates('customerID')\n",
    "print('Hasil jumlah ID Customer yang sudah dihilangkan duplikasinya (distinct) adalah',df_load['customerID'].count())"
   ]
  },
  {
   "cell_type": "code",
   "execution_count": 9,
   "metadata": {},
   "outputs": [
    {
     "data": {
      "text/plain": [
       "True"
      ]
     },
     "execution_count": 9,
     "metadata": {},
     "output_type": "execute_result"
    }
   ],
   "source": [
    "df_load['customerID'].is_unique"
   ]
  },
  {
   "cell_type": "markdown",
   "metadata": {},
   "source": [
    "### Checking for Missing Values"
   ]
  },
  {
   "cell_type": "code",
   "execution_count": 10,
   "metadata": {},
   "outputs": [
    {
     "data": {
      "text/plain": [
       "UpdatedAt            0\n",
       "customerID           0\n",
       "gender               0\n",
       "SeniorCitizen        0\n",
       "Partner              0\n",
       "Dependents           0\n",
       "tenure              99\n",
       "PhoneService         0\n",
       "MultipleLines        0\n",
       "InternetService      0\n",
       "OnlineSecurity       0\n",
       "OnlineBackup         0\n",
       "DeviceProtection     0\n",
       "TechSupport          0\n",
       "StreamingTV          0\n",
       "StreamingMovies      0\n",
       "Contract             0\n",
       "PaperlessBilling     0\n",
       "PaymentMethod        0\n",
       "MonthlyCharges      26\n",
       "TotalCharges        15\n",
       "Churn               43\n",
       "dtype: int64"
      ]
     },
     "execution_count": 10,
     "metadata": {},
     "output_type": "execute_result"
    }
   ],
   "source": [
    "df_load.isna().sum() "
   ]
  },
  {
   "cell_type": "markdown",
   "metadata": {},
   "source": [
    "#### Dropping all missing rows on column churn"
   ]
  },
  {
   "cell_type": "code",
   "execution_count": 11,
   "metadata": {},
   "outputs": [],
   "source": [
    "df_load.dropna(subset=['Churn'], inplace=True)"
   ]
  },
  {
   "cell_type": "markdown",
   "metadata": {},
   "source": [
    "#### Handling missing values with imputation\n",
    "Diasumsikan data modeller meminta pengisian missing values dengan kriteria berikut:\n",
    "* `Tenure` pihak data modeller meminta setiap rows yang memiliki missing values untuk Lama berlangganan di isi dengan 11\n",
    "* Variable yang bersifat numeric selain `Tenure` di isi dengan median dari masing-masing variable tersebut"
   ]
  },
  {
   "cell_type": "code",
   "execution_count": 12,
   "metadata": {},
   "outputs": [
    {
     "data": {
      "text/plain": [
       "UpdatedAt           0\n",
       "customerID          0\n",
       "gender              0\n",
       "SeniorCitizen       0\n",
       "Partner             0\n",
       "Dependents          0\n",
       "tenure              0\n",
       "PhoneService        0\n",
       "MultipleLines       0\n",
       "InternetService     0\n",
       "OnlineSecurity      0\n",
       "OnlineBackup        0\n",
       "DeviceProtection    0\n",
       "TechSupport         0\n",
       "StreamingTV         0\n",
       "StreamingMovies     0\n",
       "Contract            0\n",
       "PaperlessBilling    0\n",
       "PaymentMethod       0\n",
       "MonthlyCharges      0\n",
       "TotalCharges        0\n",
       "Churn               0\n",
       "dtype: int64"
      ]
     },
     "execution_count": 12,
     "metadata": {},
     "output_type": "execute_result"
    }
   ],
   "source": [
    "df_load['tenure'].fillna(11, inplace=True) \n",
    "\n",
    "list_collumns = ['MonthlyCharges', 'TotalCharges']\n",
    "for column in list_collumns:\n",
    "    median = df_load[column].median()\n",
    "    df_load[column].fillna(median, inplace=True)\n",
    "    \n",
    "df_load.isna().sum() "
   ]
  },
  {
   "cell_type": "markdown",
   "metadata": {},
   "source": [
    "### Find Outlier\n",
    "\n",
    "Outlier atau pencilan dapat dideteksi dengan melihat Box Plot dari data tersebut"
   ]
  },
  {
   "cell_type": "code",
   "execution_count": 13,
   "metadata": {},
   "outputs": [
    {
     "data": {
      "image/png": "[encoded data removed]",
      "text/plain": [
       "<Figure size 432x288 with 1 Axes>"
      ]
     },
     "metadata": {},
     "output_type": "display_data"
    },
    {
     "data": {
      "image/png": "[encoded data removed]",
      "text/plain": [
       "<Figure size 432x288 with 1 Axes>"
      ]
     },
     "metadata": {},
     "output_type": "display_data"
    },
    {
     "data": {
      "image/png": "[encoded data removed]",
      "text/plain": [
       "<Figure size 432x288 with 1 Axes>"
      ]
     },
     "metadata": {},
     "output_type": "display_data"
    }
   ],
   "source": [
    "plt.figure()\n",
    "sns.boxplot(x=df_load['tenure'])\n",
    "plt.show()\n",
    "plt.figure()\n",
    "sns.boxplot(x=df_load['MonthlyCharges'])\n",
    "plt.show()\n",
    "plt.figure()\n",
    "sns.boxplot(x=df_load['TotalCharges'])\n",
    "plt.show()"
   ]
  },
  {
   "cell_type": "markdown",
   "metadata": {},
   "source": [
    "#### Handling Outlier\n",
    "Outlier dapat diatasi dengan menggunakan metode *interquartile range* (IQR)"
   ]
  },
  {
   "cell_type": "code",
   "execution_count": 14,
   "metadata": {},
   "outputs": [],
   "source": [
    "Q1 = (df_load[['tenure', 'MonthlyCharges', 'TotalCharges']]).quantile(0.25)\n",
    "Q3 = (df_load[['tenure', 'MonthlyCharges', 'TotalCharges']]).quantile(0.75)\n",
    "IQR = Q3 - Q1\n",
    "\n",
    "maximum = Q3 + (1.5*IQR)\n",
    "minimum = Q1 - (1.5*IQR)\n",
    "\n",
    "kondisi_more_than = (df_load > maximum)\n",
    "kondisi_lower_than = (df_load < minimum)"
   ]
  },
  {
   "cell_type": "code",
   "execution_count": 15,
   "metadata": {},
   "outputs": [],
   "source": [
    "df_load = df_load.mask(kondisi_more_than, maximum, axis=1)\n",
    "df_load = df_load.mask(kondisi_lower_than, minimum, axis=1)"
   ]
  },
  {
   "cell_type": "code",
   "execution_count": 16,
   "metadata": {},
   "outputs": [
    {
     "data": {
      "image/png": "[encoded data removed]",
      "text/plain": [
       "<Figure size 1296x432 with 3 Axes>"
      ]
     },
     "metadata": {},
     "output_type": "display_data"
    }
   ],
   "source": [
    "fig, ax = plt.subplots(1, 3, figsize=(18, 6))\n",
    "sns.boxplot(x=df_load['tenure'], ax=ax[0])\n",
    "sns.boxplot(x=df_load['MonthlyCharges'], ax=ax[1])\n",
    "sns.boxplot(x=df_load['TotalCharges'], ax=ax[2])\n",
    "plt.savefig('images/box_plot.png')\n",
    "plt.show()"
   ]
  },
  {
   "cell_type": "markdown",
   "metadata": {},
   "source": [
    "### Find Not Standard Values"
   ]
  },
  {
   "cell_type": "code",
   "execution_count": 17,
   "metadata": {},
   "outputs": [
    {
     "name": "stdout",
     "output_type": "stream",
     "text": [
      "\n",
      "Uniq Values Count variabel UpdatedAt\n",
      "202006    6950\n",
      "Name: UpdatedAt, dtype: int64\n",
      "\n",
      "Uniq Values Count variabel gender\n",
      "Male         3499\n",
      "Female       3431\n",
      "Wanita         14\n",
      "Laki-Laki       6\n",
      "Name: gender, dtype: int64\n",
      "\n",
      "Uniq Values Count variabel SeniorCitizen\n",
      "0    5822\n",
      "1    1128\n",
      "Name: SeniorCitizen, dtype: int64\n",
      "\n",
      "Uniq Values Count variabel Partner\n",
      "No     3591\n",
      "Yes    3359\n",
      "Name: Partner, dtype: int64\n",
      "\n",
      "Uniq Values Count variabel Dependents\n",
      "No     4870\n",
      "Yes    2060\n",
      "Iya      20\n",
      "Name: Dependents, dtype: int64\n",
      "\n",
      "Uniq Values Count variabel PhoneService\n",
      "Yes    6281\n",
      "No      669\n",
      "Name: PhoneService, dtype: int64\n",
      "\n",
      "Uniq Values Count variabel MultipleLines\n",
      "No                  3346\n",
      "Yes                 2935\n",
      "No phone service     669\n",
      "Name: MultipleLines, dtype: int64\n",
      "\n",
      "Uniq Values Count variabel InternetService\n",
      "Fiber optic    3057\n",
      "DSL            2388\n",
      "No             1505\n",
      "Name: InternetService, dtype: int64\n",
      "\n",
      "Uniq Values Count variabel OnlineSecurity\n",
      "No                     3454\n",
      "Yes                    1991\n",
      "No internet service    1505\n",
      "Name: OnlineSecurity, dtype: int64\n",
      "\n",
      "Uniq Values Count variabel OnlineBackup\n",
      "No                     3045\n",
      "Yes                    2400\n",
      "No internet service    1505\n",
      "Name: OnlineBackup, dtype: int64\n",
      "\n",
      "Uniq Values Count variabel DeviceProtection\n",
      "No                     3054\n",
      "Yes                    2391\n",
      "No internet service    1505\n",
      "Name: DeviceProtection, dtype: int64\n",
      "\n",
      "Uniq Values Count variabel TechSupport\n",
      "No                     3431\n",
      "Yes                    2014\n",
      "No internet service    1505\n",
      "Name: TechSupport, dtype: int64\n",
      "\n",
      "Uniq Values Count variabel StreamingTV\n",
      "No                     2774\n",
      "Yes                    2671\n",
      "No internet service    1505\n",
      "Name: StreamingTV, dtype: int64\n",
      "\n",
      "Uniq Values Count variabel StreamingMovies\n",
      "No                     2747\n",
      "Yes                    2698\n",
      "No internet service    1505\n",
      "Name: StreamingMovies, dtype: int64\n",
      "\n",
      "Uniq Values Count variabel Contract\n",
      "Month-to-month    3823\n",
      "Two year          1670\n",
      "One year          1457\n",
      "Name: Contract, dtype: int64\n",
      "\n",
      "Uniq Values Count variabel PaperlessBilling\n",
      "Yes    4114\n",
      "No     2836\n",
      "Name: PaperlessBilling, dtype: int64\n",
      "\n",
      "Uniq Values Count variabel PaymentMethod\n",
      "Electronic check             2337\n",
      "Mailed check                 1594\n",
      "Bank transfer (automatic)    1519\n",
      "Credit card (automatic)      1500\n",
      "Name: PaymentMethod, dtype: int64\n",
      "\n",
      "Uniq Values Count variabel Churn\n",
      "No       5114\n",
      "Yes      1827\n",
      "Churn       9\n",
      "Name: Churn, dtype: int64\n"
     ]
    }
   ],
   "source": [
    "non_categorical_columns = ['customerID', 'tenure', 'MonthlyCharges', 'TotalCharges']\n",
    "for column in df_load.columns:\n",
    "    if column not in non_categorical_columns:\n",
    "        print('\\nUniq Values Count variabel '+column)\n",
    "        print(df_load[column].value_counts())"
   ]
  },
  {
   "cell_type": "markdown",
   "metadata": {},
   "source": [
    "Terdapat beberapa nilai yang tidak strandar antara lain 'Wanita','Laki-Laki','Churn','Iya'. Nilai-nilai tersebut harus diubah menjadi 'Female','Male','Yes','Yes'"
   ]
  },
  {
   "cell_type": "markdown",
   "metadata": {},
   "source": [
    "#### Handling Not Standard Values"
   ]
  },
  {
   "cell_type": "code",
   "execution_count": 18,
   "metadata": {},
   "outputs": [],
   "source": [
    "df_load = df_load.replace(['Wanita','Laki-Laki','Churn','Iya'],['Female','Male','Yes','Yes'])"
   ]
  },
  {
   "cell_type": "code",
   "execution_count": 19,
   "metadata": {},
   "outputs": [
    {
     "name": "stdout",
     "output_type": "stream",
     "text": [
      "\n",
      "Uniq Values Count variabel Churn\n",
      "Male      3505\n",
      "Female    3445\n",
      "Name: gender, dtype: int64\n",
      "\n",
      "Uniq Values Count variabel Churn\n",
      "No     4870\n",
      "Yes    2080\n",
      "Name: Dependents, dtype: int64\n",
      "\n",
      "Uniq Values Count variabel Churn\n",
      "No     5114\n",
      "Yes    1836\n",
      "Name: Churn, dtype: int64\n"
     ]
    }
   ],
   "source": [
    "for col_name in list(['gender','Dependents','Churn']):\n",
    "    print('\\nUniq Values Count variabel '+column)\n",
    "    print(df_load[col_name].value_counts())"
   ]
  },
  {
   "cell_type": "markdown",
   "metadata": {},
   "source": [
    "## Exploratory Data Analysis"
   ]
  },
  {
   "cell_type": "markdown",
   "metadata": {},
   "source": [
    "### Percentege of Churn Customer"
   ]
  },
  {
   "cell_type": "code",
   "execution_count": 20,
   "metadata": {},
   "outputs": [
    {
     "data": {
      "image/png": "[encoded data removed]",
      "text/plain": [
       "<Figure size 504x504 with 1 Axes>"
      ]
     },
     "metadata": {},
     "output_type": "display_data"
    }
   ],
   "source": [
    "labels = ['No', 'Yes']\n",
    "churn = df_load.Churn.value_counts()\n",
    "\n",
    "plt.figure(figsize=(7,7))\n",
    "plt.pie(churn, labels=labels, autopct='%1.1f%%')\n",
    "plt.title('Percentege of Churn Customer', loc='center', fontsize=18)\n",
    "plt.savefig('images/churn_percentege.png')\n",
    "plt.show()"
   ]
  },
  {
   "cell_type": "markdown",
   "metadata": {},
   "source": [
    "Berdasarkan plot tersebut dapat kita ketahui bahwa dari keseluruhan customer terdapat 26.4% customer yang melakukan *churn*."
   ]
  },
  {
   "cell_type": "markdown",
   "metadata": {},
   "source": [
    "### Exploring Numerical Columns"
   ]
  },
  {
   "cell_type": "code",
   "execution_count": 21,
   "metadata": {},
   "outputs": [
    {
     "data": {
      "image/png": "[encoded data removed]",
      "text/plain": [
       "<Figure size 1008x504 with 3 Axes>"
      ]
     },
     "metadata": {},
     "output_type": "display_data"
    }
   ],
   "source": [
    "numerical_columns = ['MonthlyCharges','TotalCharges','tenure']\n",
    "fig, ax = plt.subplots(1, 3, figsize=(14, 7))\n",
    "df_load[df_load.Churn == 'No'][numerical_columns].hist(bins=20, \n",
    "                                                        color='blue', \n",
    "                                                        alpha=0.5, \n",
    "                                                        ax=ax)\n",
    "df_load[df_load.Churn == 'Yes'][numerical_columns].hist(bins=20, \n",
    "                                                         color='orange', \n",
    "                                                         alpha=0.5, \n",
    "                                                         ax=ax)\n",
    "plt.tight_layout()\n",
    "plt.savefig('images/customer_by_age.png')\n",
    "plt.show()"
   ]
  },
  {
   "cell_type": "markdown",
   "metadata": {},
   "source": [
    "* Berdasarkan plot `MonthlyCharges` dapat kita ketahui bahwa semakin kecil biaya bulanan yang dikenakan, semakin kecil juga kecenderungan untuk melakukan *churn*\n",
    "* Berdasarkan plot `TotalCharges` dapat dilihat bahwa tidak ada kecenderungan apapun terhadap *churn*\n",
    "* Berdasarkan plot `tenure` dapat kita ketahui bahwa ada kecenderungan semakin lama berlangganan, semakin kecil kecenderungan untuk melakukan *churn*"
   ]
  },
  {
   "cell_type": "markdown",
   "metadata": {},
   "source": [
    "### Exploring Categorical Columns"
   ]
  },
  {
   "cell_type": "code",
   "execution_count": 22,
   "metadata": {},
   "outputs": [
    {
     "data": {
      "image/png": "[encoded data removed]",
      "text/plain": [
       "<Figure size 1008x864 with 9 Axes>"
      ]
     },
     "metadata": {},
     "output_type": "display_data"
    }
   ],
   "source": [
    "fig, ax = plt.subplots(3, 3, figsize=(14, 12))\n",
    "sns.countplot(data=df_load, x='gender', hue='Churn', ax=ax[0][0])\n",
    "sns.countplot(data=df_load, x='Partner', hue='Churn', ax=ax[0][1])\n",
    "sns.countplot(data=df_load, x='SeniorCitizen', hue='Churn', ax=ax[0][2])\n",
    "sns.countplot(data=df_load, x='PhoneService', hue='Churn', ax=ax[1][0])\n",
    "sns.countplot(data=df_load, x='StreamingTV', hue='Churn', ax=ax[1][1])\n",
    "sns.countplot(data=df_load, x='InternetService', hue='Churn', ax=ax[1][2])\n",
    "sns.countplot(data=df_load, x='PaperlessBilling', hue='Churn', ax=ax[2][1])\n",
    "plt.tight_layout()\n",
    "plt.savefig('images/categorical_plot.png')\n",
    "plt.show()"
   ]
  },
  {
   "cell_type": "markdown",
   "metadata": {},
   "source": [
    "* Tidak ada perbedaan signifikan untuk melakukan *churn* jika dilihat faktor jenis kelamin (`gender`) dan layanan telfonnya (`PhoneSevice`)\n",
    "* Ada kecenderungan melakukan *churn* untuk customer dengan kategori berikut:\n",
    "    * Tidak memiliki partner (partner: No)\n",
    "    * orang-orang yang statusnya adalah senior citizen (`SeniorCitizen: Yes`)\n",
    "    * orang-orang yang mempunyai layanan streaming TV (`StreamingTV: Yes`)\n",
    "    * orang-orang yang mempunyai layanan Internet (`internetService: Yes`)\n",
    "    * orang-orang yang tagihannya paperless (`PaperlessBilling: Yes`)"
   ]
  },
  {
   "cell_type": "markdown",
   "metadata": {},
   "source": [
    "## Data Preprocessing"
   ]
  },
  {
   "cell_type": "markdown",
   "metadata": {},
   "source": [
    "### Removing Unnecessary Columns"
   ]
  },
  {
   "cell_type": "code",
   "execution_count": 23,
   "metadata": {},
   "outputs": [
    {
     "data": {
      "text/html": [
       "<div>\n",
       "<style scoped>\n",
       "    .dataframe tbody tr th:only-of-type {\n",
       "        vertical-align: middle;\n",
       "    }\n",
       "\n",
       "    .dataframe tbody tr th {\n",
       "        vertical-align: top;\n",
       "    }\n",
       "\n",
       "    .dataframe thead th {\n",
       "        text-align: right;\n",
       "    }\n",
       "</style>\n",
       "<table border=\"1\" class=\"dataframe\">\n",
       "  <thead>\n",
       "    <tr style=\"text-align: right;\">\n",
       "      <th></th>\n",
       "      <th>gender</th>\n",
       "      <th>SeniorCitizen</th>\n",
       "      <th>Partner</th>\n",
       "      <th>Dependents</th>\n",
       "      <th>tenure</th>\n",
       "      <th>PhoneService</th>\n",
       "      <th>MultipleLines</th>\n",
       "      <th>InternetService</th>\n",
       "      <th>OnlineSecurity</th>\n",
       "      <th>OnlineBackup</th>\n",
       "      <th>DeviceProtection</th>\n",
       "      <th>TechSupport</th>\n",
       "      <th>StreamingTV</th>\n",
       "      <th>StreamingMovies</th>\n",
       "      <th>Contract</th>\n",
       "      <th>PaperlessBilling</th>\n",
       "      <th>PaymentMethod</th>\n",
       "      <th>MonthlyCharges</th>\n",
       "      <th>TotalCharges</th>\n",
       "      <th>Churn</th>\n",
       "    </tr>\n",
       "  </thead>\n",
       "  <tbody>\n",
       "    <tr>\n",
       "      <th>0</th>\n",
       "      <td>Female</td>\n",
       "      <td>0</td>\n",
       "      <td>Yes</td>\n",
       "      <td>No</td>\n",
       "      <td>1.0</td>\n",
       "      <td>No</td>\n",
       "      <td>No phone service</td>\n",
       "      <td>DSL</td>\n",
       "      <td>No</td>\n",
       "      <td>Yes</td>\n",
       "      <td>No</td>\n",
       "      <td>No</td>\n",
       "      <td>No</td>\n",
       "      <td>No</td>\n",
       "      <td>Month-to-month</td>\n",
       "      <td>Yes</td>\n",
       "      <td>Electronic check</td>\n",
       "      <td>29.85</td>\n",
       "      <td>29.85</td>\n",
       "      <td>No</td>\n",
       "    </tr>\n",
       "    <tr>\n",
       "      <th>4727</th>\n",
       "      <td>Male</td>\n",
       "      <td>0</td>\n",
       "      <td>Yes</td>\n",
       "      <td>No</td>\n",
       "      <td>60.0</td>\n",
       "      <td>Yes</td>\n",
       "      <td>No</td>\n",
       "      <td>No</td>\n",
       "      <td>No internet service</td>\n",
       "      <td>No internet service</td>\n",
       "      <td>No internet service</td>\n",
       "      <td>No internet service</td>\n",
       "      <td>No internet service</td>\n",
       "      <td>No internet service</td>\n",
       "      <td>Two year</td>\n",
       "      <td>Yes</td>\n",
       "      <td>Bank transfer (automatic)</td>\n",
       "      <td>20.50</td>\n",
       "      <td>1198.80</td>\n",
       "      <td>No</td>\n",
       "    </tr>\n",
       "    <tr>\n",
       "      <th>4738</th>\n",
       "      <td>Male</td>\n",
       "      <td>0</td>\n",
       "      <td>No</td>\n",
       "      <td>No</td>\n",
       "      <td>5.0</td>\n",
       "      <td>Yes</td>\n",
       "      <td>Yes</td>\n",
       "      <td>Fiber optic</td>\n",
       "      <td>No</td>\n",
       "      <td>Yes</td>\n",
       "      <td>Yes</td>\n",
       "      <td>No</td>\n",
       "      <td>Yes</td>\n",
       "      <td>Yes</td>\n",
       "      <td>Month-to-month</td>\n",
       "      <td>No</td>\n",
       "      <td>Mailed check</td>\n",
       "      <td>104.10</td>\n",
       "      <td>541.90</td>\n",
       "      <td>Yes</td>\n",
       "    </tr>\n",
       "    <tr>\n",
       "      <th>4737</th>\n",
       "      <td>Female</td>\n",
       "      <td>0</td>\n",
       "      <td>Yes</td>\n",
       "      <td>No</td>\n",
       "      <td>72.0</td>\n",
       "      <td>Yes</td>\n",
       "      <td>Yes</td>\n",
       "      <td>Fiber optic</td>\n",
       "      <td>Yes</td>\n",
       "      <td>Yes</td>\n",
       "      <td>Yes</td>\n",
       "      <td>Yes</td>\n",
       "      <td>Yes</td>\n",
       "      <td>Yes</td>\n",
       "      <td>Two year</td>\n",
       "      <td>Yes</td>\n",
       "      <td>Bank transfer (automatic)</td>\n",
       "      <td>115.50</td>\n",
       "      <td>8312.75</td>\n",
       "      <td>No</td>\n",
       "    </tr>\n",
       "    <tr>\n",
       "      <th>4736</th>\n",
       "      <td>Female</td>\n",
       "      <td>0</td>\n",
       "      <td>Yes</td>\n",
       "      <td>Yes</td>\n",
       "      <td>56.0</td>\n",
       "      <td>Yes</td>\n",
       "      <td>Yes</td>\n",
       "      <td>DSL</td>\n",
       "      <td>Yes</td>\n",
       "      <td>Yes</td>\n",
       "      <td>Yes</td>\n",
       "      <td>Yes</td>\n",
       "      <td>Yes</td>\n",
       "      <td>No</td>\n",
       "      <td>Two year</td>\n",
       "      <td>No</td>\n",
       "      <td>Credit card (automatic)</td>\n",
       "      <td>81.25</td>\n",
       "      <td>4620.40</td>\n",
       "      <td>No</td>\n",
       "    </tr>\n",
       "  </tbody>\n",
       "</table>\n",
       "</div>"
      ],
      "text/plain": [
       "      gender  SeniorCitizen Partner Dependents  tenure PhoneService  \\\n",
       "0     Female              0     Yes         No     1.0           No   \n",
       "4727    Male              0     Yes         No    60.0          Yes   \n",
       "4738    Male              0      No         No     5.0          Yes   \n",
       "4737  Female              0     Yes         No    72.0          Yes   \n",
       "4736  Female              0     Yes        Yes    56.0          Yes   \n",
       "\n",
       "         MultipleLines InternetService       OnlineSecurity  \\\n",
       "0     No phone service             DSL                   No   \n",
       "4727                No              No  No internet service   \n",
       "4738               Yes     Fiber optic                   No   \n",
       "4737               Yes     Fiber optic                  Yes   \n",
       "4736               Yes             DSL                  Yes   \n",
       "\n",
       "             OnlineBackup     DeviceProtection          TechSupport  \\\n",
       "0                     Yes                   No                   No   \n",
       "4727  No internet service  No internet service  No internet service   \n",
       "4738                  Yes                  Yes                   No   \n",
       "4737                  Yes                  Yes                  Yes   \n",
       "4736                  Yes                  Yes                  Yes   \n",
       "\n",
       "              StreamingTV      StreamingMovies        Contract  \\\n",
       "0                      No                   No  Month-to-month   \n",
       "4727  No internet service  No internet service        Two year   \n",
       "4738                  Yes                  Yes  Month-to-month   \n",
       "4737                  Yes                  Yes        Two year   \n",
       "4736                  Yes                   No        Two year   \n",
       "\n",
       "     PaperlessBilling              PaymentMethod  MonthlyCharges  \\\n",
       "0                 Yes           Electronic check           29.85   \n",
       "4727              Yes  Bank transfer (automatic)           20.50   \n",
       "4738               No               Mailed check          104.10   \n",
       "4737              Yes  Bank transfer (automatic)          115.50   \n",
       "4736               No    Credit card (automatic)           81.25   \n",
       "\n",
       "      TotalCharges Churn  \n",
       "0            29.85    No  \n",
       "4727       1198.80    No  \n",
       "4738        541.90   Yes  \n",
       "4737       8312.75    No  \n",
       "4736       4620.40    No  "
      ]
     },
     "execution_count": 23,
     "metadata": {},
     "output_type": "execute_result"
    }
   ],
   "source": [
    "cleaned_df = df_load.drop(['customerID', 'UpdatedAt'], axis=1)\n",
    "cleaned_df.head()"
   ]
  },
  {
   "cell_type": "markdown",
   "metadata": {},
   "source": [
    "### Encoding Data"
   ]
  },
  {
   "cell_type": "code",
   "execution_count": 24,
   "metadata": {},
   "outputs": [
    {
     "name": "stderr",
     "output_type": "stream",
     "text": [
      "<ipython-input-24-abc3fcdbd769>:4: DeprecationWarning: Converting `np.inexact` or `np.floating` to a dtype is deprecated. The current result is `float64` which is not strictly correct.\n",
      "  if cleaned_df[column].dtype == np.number:\n"
     ]
    },
    {
     "data": {
      "text/html": [
       "<div>\n",
       "<style scoped>\n",
       "    .dataframe tbody tr th:only-of-type {\n",
       "        vertical-align: middle;\n",
       "    }\n",
       "\n",
       "    .dataframe tbody tr th {\n",
       "        vertical-align: top;\n",
       "    }\n",
       "\n",
       "    .dataframe thead th {\n",
       "        text-align: right;\n",
       "    }\n",
       "</style>\n",
       "<table border=\"1\" class=\"dataframe\">\n",
       "  <thead>\n",
       "    <tr style=\"text-align: right;\">\n",
       "      <th></th>\n",
       "      <th>gender</th>\n",
       "      <th>SeniorCitizen</th>\n",
       "      <th>Partner</th>\n",
       "      <th>Dependents</th>\n",
       "      <th>tenure</th>\n",
       "      <th>PhoneService</th>\n",
       "      <th>MultipleLines</th>\n",
       "      <th>InternetService</th>\n",
       "      <th>OnlineSecurity</th>\n",
       "      <th>OnlineBackup</th>\n",
       "      <th>DeviceProtection</th>\n",
       "      <th>TechSupport</th>\n",
       "      <th>StreamingTV</th>\n",
       "      <th>StreamingMovies</th>\n",
       "      <th>Contract</th>\n",
       "      <th>PaperlessBilling</th>\n",
       "      <th>PaymentMethod</th>\n",
       "      <th>MonthlyCharges</th>\n",
       "      <th>TotalCharges</th>\n",
       "      <th>Churn</th>\n",
       "    </tr>\n",
       "  </thead>\n",
       "  <tbody>\n",
       "    <tr>\n",
       "      <th>count</th>\n",
       "      <td>6950.000000</td>\n",
       "      <td>6950.000000</td>\n",
       "      <td>6950.000000</td>\n",
       "      <td>6950.000000</td>\n",
       "      <td>6950.000000</td>\n",
       "      <td>6950.000000</td>\n",
       "      <td>6950.000000</td>\n",
       "      <td>6950.000000</td>\n",
       "      <td>6950.000000</td>\n",
       "      <td>6950.000000</td>\n",
       "      <td>6950.000000</td>\n",
       "      <td>6950.000000</td>\n",
       "      <td>6950.000000</td>\n",
       "      <td>6950.000000</td>\n",
       "      <td>6950.000000</td>\n",
       "      <td>6950.000000</td>\n",
       "      <td>6950.000000</td>\n",
       "      <td>6950.000000</td>\n",
       "      <td>6950.000000</td>\n",
       "      <td>6950.000000</td>\n",
       "    </tr>\n",
       "    <tr>\n",
       "      <th>mean</th>\n",
       "      <td>0.504317</td>\n",
       "      <td>0.162302</td>\n",
       "      <td>0.483309</td>\n",
       "      <td>0.299281</td>\n",
       "      <td>32.423165</td>\n",
       "      <td>0.903741</td>\n",
       "      <td>0.940863</td>\n",
       "      <td>0.872950</td>\n",
       "      <td>0.789496</td>\n",
       "      <td>0.907194</td>\n",
       "      <td>0.904604</td>\n",
       "      <td>0.796115</td>\n",
       "      <td>0.985180</td>\n",
       "      <td>0.992950</td>\n",
       "      <td>0.690216</td>\n",
       "      <td>0.591942</td>\n",
       "      <td>1.576403</td>\n",
       "      <td>64.992201</td>\n",
       "      <td>2286.058750</td>\n",
       "      <td>0.264173</td>\n",
       "    </tr>\n",
       "    <tr>\n",
       "      <th>std</th>\n",
       "      <td>0.500017</td>\n",
       "      <td>0.368754</td>\n",
       "      <td>0.499757</td>\n",
       "      <td>0.457976</td>\n",
       "      <td>24.581073</td>\n",
       "      <td>0.294967</td>\n",
       "      <td>0.948880</td>\n",
       "      <td>0.737618</td>\n",
       "      <td>0.859795</td>\n",
       "      <td>0.880313</td>\n",
       "      <td>0.880037</td>\n",
       "      <td>0.861389</td>\n",
       "      <td>0.885069</td>\n",
       "      <td>0.885165</td>\n",
       "      <td>0.833363</td>\n",
       "      <td>0.491509</td>\n",
       "      <td>1.067780</td>\n",
       "      <td>30.032040</td>\n",
       "      <td>2265.702553</td>\n",
       "      <td>0.440923</td>\n",
       "    </tr>\n",
       "    <tr>\n",
       "      <th>min</th>\n",
       "      <td>0.000000</td>\n",
       "      <td>0.000000</td>\n",
       "      <td>0.000000</td>\n",
       "      <td>0.000000</td>\n",
       "      <td>0.000000</td>\n",
       "      <td>0.000000</td>\n",
       "      <td>0.000000</td>\n",
       "      <td>0.000000</td>\n",
       "      <td>0.000000</td>\n",
       "      <td>0.000000</td>\n",
       "      <td>0.000000</td>\n",
       "      <td>0.000000</td>\n",
       "      <td>0.000000</td>\n",
       "      <td>0.000000</td>\n",
       "      <td>0.000000</td>\n",
       "      <td>0.000000</td>\n",
       "      <td>0.000000</td>\n",
       "      <td>0.000000</td>\n",
       "      <td>19.000000</td>\n",
       "      <td>0.000000</td>\n",
       "    </tr>\n",
       "    <tr>\n",
       "      <th>25%</th>\n",
       "      <td>0.000000</td>\n",
       "      <td>0.000000</td>\n",
       "      <td>0.000000</td>\n",
       "      <td>0.000000</td>\n",
       "      <td>9.000000</td>\n",
       "      <td>1.000000</td>\n",
       "      <td>0.000000</td>\n",
       "      <td>0.000000</td>\n",
       "      <td>0.000000</td>\n",
       "      <td>0.000000</td>\n",
       "      <td>0.000000</td>\n",
       "      <td>0.000000</td>\n",
       "      <td>0.000000</td>\n",
       "      <td>0.000000</td>\n",
       "      <td>0.000000</td>\n",
       "      <td>0.000000</td>\n",
       "      <td>1.000000</td>\n",
       "      <td>36.462500</td>\n",
       "      <td>406.975000</td>\n",
       "      <td>0.000000</td>\n",
       "    </tr>\n",
       "    <tr>\n",
       "      <th>50%</th>\n",
       "      <td>1.000000</td>\n",
       "      <td>0.000000</td>\n",
       "      <td>0.000000</td>\n",
       "      <td>0.000000</td>\n",
       "      <td>29.000000</td>\n",
       "      <td>1.000000</td>\n",
       "      <td>1.000000</td>\n",
       "      <td>1.000000</td>\n",
       "      <td>1.000000</td>\n",
       "      <td>1.000000</td>\n",
       "      <td>1.000000</td>\n",
       "      <td>1.000000</td>\n",
       "      <td>1.000000</td>\n",
       "      <td>1.000000</td>\n",
       "      <td>0.000000</td>\n",
       "      <td>1.000000</td>\n",
       "      <td>2.000000</td>\n",
       "      <td>70.450000</td>\n",
       "      <td>1400.850000</td>\n",
       "      <td>0.000000</td>\n",
       "    </tr>\n",
       "    <tr>\n",
       "      <th>75%</th>\n",
       "      <td>1.000000</td>\n",
       "      <td>0.000000</td>\n",
       "      <td>1.000000</td>\n",
       "      <td>1.000000</td>\n",
       "      <td>55.000000</td>\n",
       "      <td>1.000000</td>\n",
       "      <td>2.000000</td>\n",
       "      <td>1.000000</td>\n",
       "      <td>2.000000</td>\n",
       "      <td>2.000000</td>\n",
       "      <td>2.000000</td>\n",
       "      <td>2.000000</td>\n",
       "      <td>2.000000</td>\n",
       "      <td>2.000000</td>\n",
       "      <td>1.000000</td>\n",
       "      <td>1.000000</td>\n",
       "      <td>2.000000</td>\n",
       "      <td>89.850000</td>\n",
       "      <td>3799.837500</td>\n",
       "      <td>1.000000</td>\n",
       "    </tr>\n",
       "    <tr>\n",
       "      <th>max</th>\n",
       "      <td>1.000000</td>\n",
       "      <td>1.000000</td>\n",
       "      <td>1.000000</td>\n",
       "      <td>1.000000</td>\n",
       "      <td>124.000000</td>\n",
       "      <td>1.000000</td>\n",
       "      <td>2.000000</td>\n",
       "      <td>2.000000</td>\n",
       "      <td>2.000000</td>\n",
       "      <td>2.000000</td>\n",
       "      <td>2.000000</td>\n",
       "      <td>2.000000</td>\n",
       "      <td>2.000000</td>\n",
       "      <td>2.000000</td>\n",
       "      <td>2.000000</td>\n",
       "      <td>1.000000</td>\n",
       "      <td>3.000000</td>\n",
       "      <td>169.931250</td>\n",
       "      <td>8889.131250</td>\n",
       "      <td>1.000000</td>\n",
       "    </tr>\n",
       "  </tbody>\n",
       "</table>\n",
       "</div>"
      ],
      "text/plain": [
       "            gender  SeniorCitizen      Partner   Dependents       tenure  \\\n",
       "count  6950.000000    6950.000000  6950.000000  6950.000000  6950.000000   \n",
       "mean      0.504317       0.162302     0.483309     0.299281    32.423165   \n",
       "std       0.500017       0.368754     0.499757     0.457976    24.581073   \n",
       "min       0.000000       0.000000     0.000000     0.000000     0.000000   \n",
       "25%       0.000000       0.000000     0.000000     0.000000     9.000000   \n",
       "50%       1.000000       0.000000     0.000000     0.000000    29.000000   \n",
       "75%       1.000000       0.000000     1.000000     1.000000    55.000000   \n",
       "max       1.000000       1.000000     1.000000     1.000000   124.000000   \n",
       "\n",
       "       PhoneService  MultipleLines  InternetService  OnlineSecurity  \\\n",
       "count   6950.000000    6950.000000      6950.000000     6950.000000   \n",
       "mean       0.903741       0.940863         0.872950        0.789496   \n",
       "std        0.294967       0.948880         0.737618        0.859795   \n",
       "min        0.000000       0.000000         0.000000        0.000000   \n",
       "25%        1.000000       0.000000         0.000000        0.000000   \n",
       "50%        1.000000       1.000000         1.000000        1.000000   \n",
       "75%        1.000000       2.000000         1.000000        2.000000   \n",
       "max        1.000000       2.000000         2.000000        2.000000   \n",
       "\n",
       "       OnlineBackup  DeviceProtection  TechSupport  StreamingTV  \\\n",
       "count   6950.000000       6950.000000  6950.000000  6950.000000   \n",
       "mean       0.907194          0.904604     0.796115     0.985180   \n",
       "std        0.880313          0.880037     0.861389     0.885069   \n",
       "min        0.000000          0.000000     0.000000     0.000000   \n",
       "25%        0.000000          0.000000     0.000000     0.000000   \n",
       "50%        1.000000          1.000000     1.000000     1.000000   \n",
       "75%        2.000000          2.000000     2.000000     2.000000   \n",
       "max        2.000000          2.000000     2.000000     2.000000   \n",
       "\n",
       "       StreamingMovies     Contract  PaperlessBilling  PaymentMethod  \\\n",
       "count      6950.000000  6950.000000       6950.000000    6950.000000   \n",
       "mean          0.992950     0.690216          0.591942       1.576403   \n",
       "std           0.885165     0.833363          0.491509       1.067780   \n",
       "min           0.000000     0.000000          0.000000       0.000000   \n",
       "25%           0.000000     0.000000          0.000000       1.000000   \n",
       "50%           1.000000     0.000000          1.000000       2.000000   \n",
       "75%           2.000000     1.000000          1.000000       2.000000   \n",
       "max           2.000000     2.000000          1.000000       3.000000   \n",
       "\n",
       "       MonthlyCharges  TotalCharges        Churn  \n",
       "count     6950.000000   6950.000000  6950.000000  \n",
       "mean        64.992201   2286.058750     0.264173  \n",
       "std         30.032040   2265.702553     0.440923  \n",
       "min          0.000000     19.000000     0.000000  \n",
       "25%         36.462500    406.975000     0.000000  \n",
       "50%         70.450000   1400.850000     0.000000  \n",
       "75%         89.850000   3799.837500     1.000000  \n",
       "max        169.931250   8889.131250     1.000000  "
      ]
     },
     "execution_count": 24,
     "metadata": {},
     "output_type": "execute_result"
    }
   ],
   "source": [
    "LE = LabelEncoder()\n",
    "\n",
    "for column in cleaned_df.columns:\n",
    "    if cleaned_df[column].dtype == np.number:\n",
    "        continue\n",
    "    else:\n",
    "        cleaned_df[column] = LE.fit_transform(cleaned_df[column])\n",
    "\n",
    "cleaned_df.describe()"
   ]
  },
  {
   "cell_type": "markdown",
   "metadata": {},
   "source": [
    "### Spliting Dataset\n",
    "Dataset akan dibagi menjadi 70% training & 30% testing"
   ]
  },
  {
   "cell_type": "code",
   "execution_count": 25,
   "metadata": {},
   "outputs": [
    {
     "name": "stdout",
     "output_type": "stream",
     "text": [
      "Shape of X_train: (4865, 19)\n",
      "Shape of y_train: (4865,)\n",
      "Shape of X_test: (2085, 19)\n",
      "Shape of y_test: (2085,)\n"
     ]
    }
   ],
   "source": [
    "X = cleaned_df.drop('Churn', axis=1)\n",
    "y = cleaned_df['Churn']\n",
    "\n",
    "X_train, X_test, y_train, y_test = train_test_split(X, y, test_size=0.3, random_state=42)\n",
    "\n",
    "# checking the shapes\n",
    "print(\"Shape of X_train:\", X_train.shape)\n",
    "print(\"Shape of y_train:\", y_train.shape)\n",
    "print(\"Shape of X_test:\", X_test.shape)\n",
    "print(\"Shape of y_test:\", y_test.shape)"
   ]
  },
  {
   "cell_type": "markdown",
   "metadata": {},
   "source": [
    "## Modelling"
   ]
  },
  {
   "cell_type": "markdown",
   "metadata": {},
   "source": [
    "###  Model: Logistic Regression"
   ]
  },
  {
   "cell_type": "code",
   "execution_count": 26,
   "metadata": {},
   "outputs": [
    {
     "name": "stderr",
     "output_type": "stream",
     "text": [
      "C:\\Users\\Rahmat\\anaconda3\\lib\\site-packages\\sklearn\\linear_model\\_logistic.py:762: ConvergenceWarning: lbfgs failed to converge (status=1):\n",
      "STOP: TOTAL NO. of ITERATIONS REACHED LIMIT.\n",
      "\n",
      "Increase the number of iterations (max_iter) or scale the data as shown in:\n",
      "    https://scikit-learn.org/stable/modules/preprocessing.html\n",
      "Please also refer to the documentation for alternative solver options:\n",
      "    https://scikit-learn.org/stable/modules/linear_model.html#logistic-regression\n",
      "  n_iter_i = _check_optimize_result(\n"
     ]
    }
   ],
   "source": [
    "log_model = LogisticRegression()\n",
    "log_model = log_model.fit(X_train, y_train)\n",
    "\n",
    "# Predict\n",
    "y_pred = log_model.predict(X_test)"
   ]
  },
  {
   "cell_type": "markdown",
   "metadata": {},
   "source": [
    "#### Model Performance"
   ]
  },
  {
   "cell_type": "code",
   "execution_count": 27,
   "metadata": {},
   "outputs": [
    {
     "name": "stdout",
     "output_type": "stream",
     "text": [
      "Classification Report Logistic Regression Model :\n",
      "              precision    recall  f1-score   support\n",
      "\n",
      "           0       0.85      0.90      0.87      1539\n",
      "           1       0.66      0.54      0.60       546\n",
      "\n",
      "    accuracy                           0.81      2085\n",
      "   macro avg       0.75      0.72      0.74      2085\n",
      "weighted avg       0.80      0.81      0.80      2085\n",
      "\n"
     ]
    }
   ],
   "source": [
    "print('Classification Report Logistic Regression Model :')\n",
    "print(classification_report(y_test, y_pred))"
   ]
  },
  {
   "cell_type": "code",
   "execution_count": 28,
   "metadata": {},
   "outputs": [
    {
     "data": {
      "image/png": "[encoded data removed]",
      "text/plain": [
       "<Figure size 720x432 with 2 Axes>"
      ]
     },
     "metadata": {},
     "output_type": "display_data"
    }
   ],
   "source": [
    "cnf_matrix = confusion_matrix(y_test, y_pred)\n",
    "\n",
    "labels = ('No churn', 'Churn')\n",
    "\n",
    "confusion_matrix_df = pd.DataFrame(cnf_matrix, labels, labels)\n",
    "\n",
    "# Plot confusion matrix\n",
    "plt.figure(figsize=(10, 6))\n",
    "heatmap = sns.heatmap(confusion_matrix_df, annot=True, annot_kws={'size': 14}, fmt='d', cmap='YlGnBu')\n",
    "heatmap.xaxis.set_ticklabels(heatmap.xaxis.get_ticklabels(), rotation=0, ha='right', fontsize=14)\n",
    "plt.title('Confusion Matrix for Logistic Regression Model', fontsize=20, pad=10)\n",
    "plt.ylabel('True label', fontsize=15)\n",
    "plt.xlabel('Predicted label', fontsize=15)\n",
    "plt.savefig('images/snf_log_model.png')\n",
    "plt.show()"
   ]
  },
  {
   "cell_type": "markdown",
   "metadata": {},
   "source": [
    "### Model: Random Forest Classifier"
   ]
  },
  {
   "cell_type": "code",
   "execution_count": 29,
   "metadata": {},
   "outputs": [],
   "source": [
    "rdf_model = RandomForestClassifier()\n",
    "rdf_model = rdf_model.fit(X_train, y_train)\n",
    "\n",
    "y_pred = rdf_model.predict(X_test)"
   ]
  },
  {
   "cell_type": "markdown",
   "metadata": {},
   "source": [
    "#### Model Performance"
   ]
  },
  {
   "cell_type": "code",
   "execution_count": 30,
   "metadata": {},
   "outputs": [
    {
     "name": "stdout",
     "output_type": "stream",
     "text": [
      "Classification Report Random Forest Classifier:\n",
      "              precision    recall  f1-score   support\n",
      "\n",
      "           0       0.83      0.91      0.87      1539\n",
      "           1       0.66      0.48      0.56       546\n",
      "\n",
      "    accuracy                           0.80      2085\n",
      "   macro avg       0.74      0.70      0.71      2085\n",
      "weighted avg       0.79      0.80      0.79      2085\n",
      "\n"
     ]
    }
   ],
   "source": [
    "print('Classification Report Random Forest Classifier:')\n",
    "print(classification_report(y_test, y_pred))"
   ]
  },
  {
   "cell_type": "code",
   "execution_count": 31,
   "metadata": {},
   "outputs": [
    {
     "data": {
      "image/png": "[encoded data removed]",
      "text/plain": [
       "<Figure size 720x432 with 2 Axes>"
      ]
     },
     "metadata": {},
     "output_type": "display_data"
    }
   ],
   "source": [
    "cnf_matrix = confusion_matrix(y_test, y_pred)\n",
    "\n",
    "labels = ('No churn', 'Churn')\n",
    "\n",
    "confusion_matrix_df = pd.DataFrame(cnf_matrix, labels, labels)\n",
    "\n",
    "# Plot confusion matrix\n",
    "plt.figure(figsize=(10, 6))\n",
    "heatmap = sns.heatmap(confusion_matrix_df, annot=True, annot_kws={'size': 14}, fmt='d', cmap='YlGnBu')\n",
    "heatmap.xaxis.set_ticklabels(heatmap.xaxis.get_ticklabels(), rotation=0, ha='right', fontsize=14)\n",
    "plt.title('Confusion Matrix for Random Forest Classifier', fontsize=20, pad=10)\n",
    "plt.ylabel('True label', fontsize=15)\n",
    "plt.xlabel('Predicted label', fontsize=15)\n",
    "plt.savefig('images/snf_cnf_model.png')\n",
    "plt.show()"
   ]
  },
  {
   "cell_type": "markdown",
   "metadata": {},
   "source": [
    "### Model: Gradient Boosting Classifier"
   ]
  },
  {
   "cell_type": "code",
   "execution_count": 32,
   "metadata": {},
   "outputs": [],
   "source": [
    "gbt_model = GradientBoostingClassifier()\n",
    "gbt_model = gbt_model.fit(X_train, y_train)\n",
    "\n",
    "y_pred = gbt_model.predict(X_test)"
   ]
  },
  {
   "cell_type": "markdown",
   "metadata": {},
   "source": [
    "#### Model Performance"
   ]
  },
  {
   "cell_type": "code",
   "execution_count": 33,
   "metadata": {},
   "outputs": [
    {
     "name": "stdout",
     "output_type": "stream",
     "text": [
      "Classification Report Gradient Boosting Classifier:\n",
      "              precision    recall  f1-score   support\n",
      "\n",
      "           0       0.84      0.91      0.88      1539\n",
      "           1       0.68      0.51      0.59       546\n",
      "\n",
      "    accuracy                           0.81      2085\n",
      "   macro avg       0.76      0.71      0.73      2085\n",
      "weighted avg       0.80      0.81      0.80      2085\n",
      "\n"
     ]
    }
   ],
   "source": [
    "print('Classification Report Gradient Boosting Classifier:')\n",
    "print(classification_report(y_test, y_pred))"
   ]
  },
  {
   "cell_type": "code",
   "execution_count": 34,
   "metadata": {
    "scrolled": true
   },
   "outputs": [
    {
     "data": {
      "image/png": "[encoded data removed]",
      "text/plain": [
       "<Figure size 720x432 with 2 Axes>"
      ]
     },
     "metadata": {},
     "output_type": "display_data"
    }
   ],
   "source": [
    "cnf_matrix = confusion_matrix(y_test, y_pred)\n",
    "\n",
    "labels = ('No churn', 'Churn')\n",
    "\n",
    "confusion_matrix_df = pd.DataFrame(cnf_matrix, labels, labels)\n",
    "\n",
    "# Plot confusion matrix\n",
    "plt.figure(figsize=(10, 6))\n",
    "heatmap = sns.heatmap(confusion_matrix_df, annot=True, annot_kws={'size': 14}, fmt='d', cmap='YlGnBu')\n",
    "heatmap.xaxis.set_ticklabels(heatmap.xaxis.get_ticklabels(), rotation=0, ha='right', fontsize=14)\n",
    "plt.title('Confusion Matrix for Gradient Boosting Classifier', fontsize=20, pad=10)\n",
    "plt.ylabel('True label', fontsize=15)\n",
    "plt.xlabel('Predicted label', fontsize=15)\n",
    "plt.savefig('images/snf_gbt_model.png')\n",
    "plt.show()"
   ]
  },
  {
   "cell_type": "markdown",
   "metadata": {},
   "source": []
  },
  {
   "cell_type": "code",
   "execution_count": null,
   "metadata": {},
   "outputs": [],
   "source": []
  }
 ],
 "metadata": {
  "hide_input": false,
  "kernelspec": {
   "display_name": "Python 3",
   "language": "python",
   "name": "python3"
  },
  "language_info": {
   "codemirror_mode": {
    "name": "ipython",
    "version": 3
   },
   "file_extension": ".py",
   "mimetype": "text/x-python",
   "name": "python",
   "nbconvert_exporter": "python",
   "pygments_lexer": "ipython3",
   "version": "3.8.5"
  },
  "latex_envs": {
   "LaTeX_envs_menu_present": true,
   "autoclose": false,
   "autocomplete": true,
   "bibliofile": "biblio.bib",
   "cite_by": "apalike",
   "current_citInitial": 1,
   "eqLabelWithNumbers": true,
   "eqNumInitial": 1,
   "hotkeys": {
    "equation": "Ctrl-E",
    "itemize": "Ctrl-I"
   },
   "labels_anchors": false,
   "latex_user_defs": false,
   "report_style_numbering": false,
   "user_envs_cfg": false
  },
  "nbTranslate": {
   "displayLangs": [
    "*"
   ],
   "hotkey": "alt-t",
   "langInMainMenu": true,
   "sourceLang": "en",
   "targetLang": "fr",
   "useGoogleTranslate": true
  },
  "toc": {
   "base_numbering": 1,
   "nav_menu": {},
   "number_sections": true,
   "sideBar": true,
   "skip_h1_title": false,
   "title_cell": "Table of Contents",
   "title_sidebar": "Contents",
   "toc_cell": false,
   "toc_position": {
    "height": "calc(100% - 180px)",
    "left": "10px",
    "top": "150px",
    "width": "409.6px"
   },
   "toc_section_display": true,
   "toc_window_display": false
  },
  "varInspector": {
   "cols": {
    "lenName": 16,
    "lenType": 16,
    "lenVar": 40
   },
   "kernels_config": {
    "python": {
     "delete_cmd_postfix": "",
     "delete_cmd_prefix": "del ",
     "library": "var_list.py",
     "varRefreshCmd": "print(var_dic_list())"
    },
    "r": {
     "delete_cmd_postfix": ") ",
     "delete_cmd_prefix": "rm(",
     "library": "var_list.r",
     "varRefreshCmd": "cat(var_dic_list()) "
    }
   },
   "types_to_exclude": [
    "module",
    "function",
    "builtin_function_or_method",
    "instance",
    "_Feature"
   ],
   "window_display": false
  }
 },
 "nbformat": 4,
 "nbformat_minor": 4
}
